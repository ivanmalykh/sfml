{
 "cells": [
  {
   "cell_type": "code",
   "execution_count": 1,
   "metadata": {
    "collapsed": true
   },
   "outputs": [],
   "source": [
    "import numpy as np\n",
    "import pandas as pd\n",
    "import matplotlib.pyplot as plt\n",
    "from collections import Counter\n",
    "import seaborn as sns\n",
    "%matplotlib inline\n",
    "\n",
    "df_train = pd.read_csv('data/train.csv', sep=',')\n",
    "df_train['source'] = 'train'\n",
    "df_test = pd.read_csv('data/test.csv', sep=',')\n",
    "df_test['source'] = 'test'\n",
    "\n",
    "df = pd.concat([df_train, df_test])"
   ]
  },
  {
   "cell_type": "markdown",
   "metadata": {},
   "source": [
    "### Поиск ошибок и пропусков"
   ]
  },
  {
   "cell_type": "code",
   "execution_count": 2,
   "metadata": {},
   "outputs": [
    {
     "name": "stdout",
     "output_type": "stream",
     "text": [
      "<class 'pandas.core.frame.DataFrame'>\n",
      "Int64Index: 41188 entries, 0 to 16475\n",
      "Data columns (total 23 columns):\n",
      "_id               41188 non-null object\n",
      "age               41188 non-null int64\n",
      "campaign          41188 non-null int64\n",
      "cons.conf.idx     41188 non-null float64\n",
      "cons.price.idx    41188 non-null float64\n",
      "contact           41188 non-null object\n",
      "day_of_week       41188 non-null object\n",
      "default           41188 non-null object\n",
      "duration          41188 non-null int64\n",
      "education         41188 non-null object\n",
      "emp.var.rate      41188 non-null float64\n",
      "euribor3m         41188 non-null float64\n",
      "housing           41188 non-null object\n",
      "job               41188 non-null object\n",
      "loan              41188 non-null object\n",
      "marital           41188 non-null object\n",
      "month             41188 non-null object\n",
      "nr.employed       41188 non-null float64\n",
      "pdays             41188 non-null int64\n",
      "poutcome          41188 non-null object\n",
      "previous          41188 non-null int64\n",
      "source            41188 non-null object\n",
      "target            24712 non-null float64\n",
      "dtypes: float64(6), int64(5), object(12)\n",
      "memory usage: 7.5+ MB\n"
     ]
    }
   ],
   "source": [
    "df.info()"
   ]
  },
  {
   "cell_type": "markdown",
   "metadata": {},
   "source": [
    "пропусков нет"
   ]
  },
  {
   "cell_type": "code",
   "execution_count": 3,
   "metadata": {},
   "outputs": [
    {
     "data": {
      "text/html": [
       "<div>\n",
       "<style>\n",
       "    .dataframe thead tr:only-child th {\n",
       "        text-align: right;\n",
       "    }\n",
       "\n",
       "    .dataframe thead th {\n",
       "        text-align: left;\n",
       "    }\n",
       "\n",
       "    .dataframe tbody tr th {\n",
       "        vertical-align: top;\n",
       "    }\n",
       "</style>\n",
       "<table border=\"1\" class=\"dataframe\">\n",
       "  <thead>\n",
       "    <tr style=\"text-align: right;\">\n",
       "      <th></th>\n",
       "      <th>count</th>\n",
       "      <th>mean</th>\n",
       "      <th>std</th>\n",
       "      <th>min</th>\n",
       "      <th>25%</th>\n",
       "      <th>50%</th>\n",
       "      <th>75%</th>\n",
       "      <th>max</th>\n",
       "    </tr>\n",
       "  </thead>\n",
       "  <tbody>\n",
       "    <tr>\n",
       "      <th>age</th>\n",
       "      <td>41188.0</td>\n",
       "      <td>40.024060</td>\n",
       "      <td>10.421250</td>\n",
       "      <td>17.000</td>\n",
       "      <td>32.000</td>\n",
       "      <td>38.000</td>\n",
       "      <td>47.000</td>\n",
       "      <td>98.000</td>\n",
       "    </tr>\n",
       "    <tr>\n",
       "      <th>campaign</th>\n",
       "      <td>41188.0</td>\n",
       "      <td>2.567593</td>\n",
       "      <td>2.770014</td>\n",
       "      <td>1.000</td>\n",
       "      <td>1.000</td>\n",
       "      <td>2.000</td>\n",
       "      <td>3.000</td>\n",
       "      <td>56.000</td>\n",
       "    </tr>\n",
       "    <tr>\n",
       "      <th>cons.conf.idx</th>\n",
       "      <td>41188.0</td>\n",
       "      <td>-40.502600</td>\n",
       "      <td>4.628198</td>\n",
       "      <td>-50.800</td>\n",
       "      <td>-42.700</td>\n",
       "      <td>-41.800</td>\n",
       "      <td>-36.400</td>\n",
       "      <td>-26.900</td>\n",
       "    </tr>\n",
       "    <tr>\n",
       "      <th>cons.price.idx</th>\n",
       "      <td>41188.0</td>\n",
       "      <td>93.575664</td>\n",
       "      <td>0.578840</td>\n",
       "      <td>92.201</td>\n",
       "      <td>93.075</td>\n",
       "      <td>93.749</td>\n",
       "      <td>93.994</td>\n",
       "      <td>94.767</td>\n",
       "    </tr>\n",
       "    <tr>\n",
       "      <th>duration</th>\n",
       "      <td>41188.0</td>\n",
       "      <td>258.285010</td>\n",
       "      <td>259.279249</td>\n",
       "      <td>0.000</td>\n",
       "      <td>102.000</td>\n",
       "      <td>180.000</td>\n",
       "      <td>319.000</td>\n",
       "      <td>4918.000</td>\n",
       "    </tr>\n",
       "    <tr>\n",
       "      <th>emp.var.rate</th>\n",
       "      <td>41188.0</td>\n",
       "      <td>0.081886</td>\n",
       "      <td>1.570960</td>\n",
       "      <td>-3.400</td>\n",
       "      <td>-1.800</td>\n",
       "      <td>1.100</td>\n",
       "      <td>1.400</td>\n",
       "      <td>1.400</td>\n",
       "    </tr>\n",
       "    <tr>\n",
       "      <th>euribor3m</th>\n",
       "      <td>41188.0</td>\n",
       "      <td>3.621291</td>\n",
       "      <td>1.734447</td>\n",
       "      <td>0.634</td>\n",
       "      <td>1.344</td>\n",
       "      <td>4.857</td>\n",
       "      <td>4.961</td>\n",
       "      <td>5.045</td>\n",
       "    </tr>\n",
       "    <tr>\n",
       "      <th>nr.employed</th>\n",
       "      <td>41188.0</td>\n",
       "      <td>5167.035911</td>\n",
       "      <td>72.251528</td>\n",
       "      <td>4963.600</td>\n",
       "      <td>5099.100</td>\n",
       "      <td>5191.000</td>\n",
       "      <td>5228.100</td>\n",
       "      <td>5228.100</td>\n",
       "    </tr>\n",
       "    <tr>\n",
       "      <th>pdays</th>\n",
       "      <td>41188.0</td>\n",
       "      <td>962.475454</td>\n",
       "      <td>186.910907</td>\n",
       "      <td>0.000</td>\n",
       "      <td>999.000</td>\n",
       "      <td>999.000</td>\n",
       "      <td>999.000</td>\n",
       "      <td>999.000</td>\n",
       "    </tr>\n",
       "    <tr>\n",
       "      <th>previous</th>\n",
       "      <td>41188.0</td>\n",
       "      <td>0.172963</td>\n",
       "      <td>0.494901</td>\n",
       "      <td>0.000</td>\n",
       "      <td>0.000</td>\n",
       "      <td>0.000</td>\n",
       "      <td>0.000</td>\n",
       "      <td>7.000</td>\n",
       "    </tr>\n",
       "    <tr>\n",
       "      <th>target</th>\n",
       "      <td>24712.0</td>\n",
       "      <td>0.112779</td>\n",
       "      <td>0.316329</td>\n",
       "      <td>0.000</td>\n",
       "      <td>0.000</td>\n",
       "      <td>0.000</td>\n",
       "      <td>0.000</td>\n",
       "      <td>1.000</td>\n",
       "    </tr>\n",
       "  </tbody>\n",
       "</table>\n",
       "</div>"
      ],
      "text/plain": [
       "                  count         mean         std       min       25%  \\\n",
       "age             41188.0    40.024060   10.421250    17.000    32.000   \n",
       "campaign        41188.0     2.567593    2.770014     1.000     1.000   \n",
       "cons.conf.idx   41188.0   -40.502600    4.628198   -50.800   -42.700   \n",
       "cons.price.idx  41188.0    93.575664    0.578840    92.201    93.075   \n",
       "duration        41188.0   258.285010  259.279249     0.000   102.000   \n",
       "emp.var.rate    41188.0     0.081886    1.570960    -3.400    -1.800   \n",
       "euribor3m       41188.0     3.621291    1.734447     0.634     1.344   \n",
       "nr.employed     41188.0  5167.035911   72.251528  4963.600  5099.100   \n",
       "pdays           41188.0   962.475454  186.910907     0.000   999.000   \n",
       "previous        41188.0     0.172963    0.494901     0.000     0.000   \n",
       "target          24712.0     0.112779    0.316329     0.000     0.000   \n",
       "\n",
       "                     50%       75%       max  \n",
       "age               38.000    47.000    98.000  \n",
       "campaign           2.000     3.000    56.000  \n",
       "cons.conf.idx    -41.800   -36.400   -26.900  \n",
       "cons.price.idx    93.749    93.994    94.767  \n",
       "duration         180.000   319.000  4918.000  \n",
       "emp.var.rate       1.100     1.400     1.400  \n",
       "euribor3m          4.857     4.961     5.045  \n",
       "nr.employed     5191.000  5228.100  5228.100  \n",
       "pdays            999.000   999.000   999.000  \n",
       "previous           0.000     0.000     7.000  \n",
       "target             0.000     0.000     1.000  "
      ]
     },
     "execution_count": 3,
     "metadata": {},
     "output_type": "execute_result"
    }
   ],
   "source": [
    "df.describe().T"
   ]
  },
  {
   "cell_type": "markdown",
   "metadata": {},
   "source": [
    "Отрицательных значений для таких фич как age, campaign, pdays, previous тоже нет"
   ]
  },
  {
   "cell_type": "code",
   "execution_count": 4,
   "metadata": {},
   "outputs": [
    {
     "data": {
      "text/plain": [
       "education\n",
       "basic.4y               18\n",
       "basic.6y               18\n",
       "basic.9y               17\n",
       "high.school            18\n",
       "illiterate             34\n",
       "professional.course    20\n",
       "university.degree      20\n",
       "unknown                17\n",
       "Name: age, dtype: int64"
      ]
     },
     "execution_count": 4,
     "metadata": {},
     "output_type": "execute_result"
    }
   ],
   "source": [
    "df.groupby('education').age.min()"
   ]
  },
  {
   "cell_type": "markdown",
   "metadata": {},
   "source": [
    "Связкиа \"возраст-образование\" выглядет логично. Минимальный возраст в датасете 17 лет, судя по остальным фичам и их значениями вероятно записи относятся не к РФ (где минимальный возраст для самого простого кредита 18 лет), т.е. смысл проверять на наличие соотношение \"вораст-кредит\" (кредит на дом, потребительский) нет"
   ]
  },
  {
   "cell_type": "code",
   "execution_count": 5,
   "metadata": {},
   "outputs": [
    {
     "data": {
      "text/plain": [
       "count    875.000000\n",
       "mean      25.894857\n",
       "std        4.991334\n",
       "min       17.000000\n",
       "25%       22.000000\n",
       "50%       25.000000\n",
       "75%       29.000000\n",
       "max       47.000000\n",
       "Name: age, dtype: float64"
      ]
     },
     "execution_count": 5,
     "metadata": {},
     "output_type": "execute_result"
    }
   ],
   "source": [
    "df[df.job == 'student'].age.describe()"
   ]
  },
  {
   "cell_type": "markdown",
   "metadata": {},
   "source": [
    "Соотношение выглядит реальным. И в 47 лет могут быть студенты, хоть таки очень мало"
   ]
  },
  {
   "cell_type": "code",
   "execution_count": 7,
   "metadata": {},
   "outputs": [
    {
     "data": {
      "text/plain": [
       "0"
      ]
     },
     "execution_count": 7,
     "metadata": {},
     "output_type": "execute_result"
    }
   ],
   "source": [
    "df[df.campaign==0].campaign.count()"
   ]
  },
  {
   "cell_type": "markdown",
   "metadata": {},
   "source": [
    "т.е. нет таких пользователей, с которыми отсутствуют контакты в рамках марк-ой стр-гии"
   ]
  },
  {
   "cell_type": "code",
   "execution_count": 9,
   "metadata": {},
   "outputs": [
    {
     "data": {
      "text/html": [
       "<div>\n",
       "<style>\n",
       "    .dataframe thead tr:only-child th {\n",
       "        text-align: right;\n",
       "    }\n",
       "\n",
       "    .dataframe thead th {\n",
       "        text-align: left;\n",
       "    }\n",
       "\n",
       "    .dataframe tbody tr th {\n",
       "        vertical-align: top;\n",
       "    }\n",
       "</style>\n",
       "<table border=\"1\" class=\"dataframe\">\n",
       "  <thead>\n",
       "    <tr style=\"text-align: right;\">\n",
       "      <th></th>\n",
       "      <th>age</th>\n",
       "      <th>campaign</th>\n",
       "      <th>cons.conf.idx</th>\n",
       "      <th>cons.price.idx</th>\n",
       "      <th>contact</th>\n",
       "      <th>day_of_week</th>\n",
       "      <th>default</th>\n",
       "      <th>duration</th>\n",
       "      <th>education</th>\n",
       "      <th>emp.var.rate</th>\n",
       "      <th>...</th>\n",
       "      <th>job</th>\n",
       "      <th>loan</th>\n",
       "      <th>marital</th>\n",
       "      <th>month</th>\n",
       "      <th>nr.employed</th>\n",
       "      <th>pdays</th>\n",
       "      <th>poutcome</th>\n",
       "      <th>previous</th>\n",
       "      <th>source</th>\n",
       "      <th>target</th>\n",
       "    </tr>\n",
       "  </thead>\n",
       "  <tbody>\n",
       "    <tr>\n",
       "      <th>3385</th>\n",
       "      <td>51</td>\n",
       "      <td>1</td>\n",
       "      <td>-47.1</td>\n",
       "      <td>93.075</td>\n",
       "      <td>cellular</td>\n",
       "      <td>thu</td>\n",
       "      <td>no</td>\n",
       "      <td>687</td>\n",
       "      <td>professional.course</td>\n",
       "      <td>-1.8</td>\n",
       "      <td>...</td>\n",
       "      <td>technician</td>\n",
       "      <td>no</td>\n",
       "      <td>married</td>\n",
       "      <td>apr</td>\n",
       "      <td>5099.1</td>\n",
       "      <td>0</td>\n",
       "      <td>success</td>\n",
       "      <td>1</td>\n",
       "      <td>train</td>\n",
       "      <td>1.0</td>\n",
       "    </tr>\n",
       "    <tr>\n",
       "      <th>12672</th>\n",
       "      <td>28</td>\n",
       "      <td>1</td>\n",
       "      <td>-38.3</td>\n",
       "      <td>94.027</td>\n",
       "      <td>cellular</td>\n",
       "      <td>wed</td>\n",
       "      <td>no</td>\n",
       "      <td>178</td>\n",
       "      <td>basic.9y</td>\n",
       "      <td>-1.7</td>\n",
       "      <td>...</td>\n",
       "      <td>student</td>\n",
       "      <td>no</td>\n",
       "      <td>single</td>\n",
       "      <td>aug</td>\n",
       "      <td>4991.6</td>\n",
       "      <td>0</td>\n",
       "      <td>success</td>\n",
       "      <td>1</td>\n",
       "      <td>train</td>\n",
       "      <td>1.0</td>\n",
       "    </tr>\n",
       "    <tr>\n",
       "      <th>15813</th>\n",
       "      <td>44</td>\n",
       "      <td>3</td>\n",
       "      <td>-38.3</td>\n",
       "      <td>94.027</td>\n",
       "      <td>cellular</td>\n",
       "      <td>wed</td>\n",
       "      <td>no</td>\n",
       "      <td>153</td>\n",
       "      <td>basic.6y</td>\n",
       "      <td>-1.7</td>\n",
       "      <td>...</td>\n",
       "      <td>services</td>\n",
       "      <td>no</td>\n",
       "      <td>divorced</td>\n",
       "      <td>aug</td>\n",
       "      <td>4991.6</td>\n",
       "      <td>0</td>\n",
       "      <td>success</td>\n",
       "      <td>1</td>\n",
       "      <td>train</td>\n",
       "      <td>1.0</td>\n",
       "    </tr>\n",
       "    <tr>\n",
       "      <th>20812</th>\n",
       "      <td>27</td>\n",
       "      <td>1</td>\n",
       "      <td>-38.3</td>\n",
       "      <td>94.027</td>\n",
       "      <td>cellular</td>\n",
       "      <td>wed</td>\n",
       "      <td>no</td>\n",
       "      <td>651</td>\n",
       "      <td>university.degree</td>\n",
       "      <td>-1.7</td>\n",
       "      <td>...</td>\n",
       "      <td>student</td>\n",
       "      <td>no</td>\n",
       "      <td>single</td>\n",
       "      <td>aug</td>\n",
       "      <td>4991.6</td>\n",
       "      <td>0</td>\n",
       "      <td>success</td>\n",
       "      <td>3</td>\n",
       "      <td>train</td>\n",
       "      <td>1.0</td>\n",
       "    </tr>\n",
       "    <tr>\n",
       "      <th>21371</th>\n",
       "      <td>27</td>\n",
       "      <td>1</td>\n",
       "      <td>-38.3</td>\n",
       "      <td>94.027</td>\n",
       "      <td>telephone</td>\n",
       "      <td>wed</td>\n",
       "      <td>no</td>\n",
       "      <td>153</td>\n",
       "      <td>university.degree</td>\n",
       "      <td>-1.7</td>\n",
       "      <td>...</td>\n",
       "      <td>student</td>\n",
       "      <td>no</td>\n",
       "      <td>single</td>\n",
       "      <td>aug</td>\n",
       "      <td>4991.6</td>\n",
       "      <td>0</td>\n",
       "      <td>success</td>\n",
       "      <td>5</td>\n",
       "      <td>train</td>\n",
       "      <td>0.0</td>\n",
       "    </tr>\n",
       "    <tr>\n",
       "      <th>22258</th>\n",
       "      <td>36</td>\n",
       "      <td>1</td>\n",
       "      <td>-47.1</td>\n",
       "      <td>93.075</td>\n",
       "      <td>cellular</td>\n",
       "      <td>thu</td>\n",
       "      <td>no</td>\n",
       "      <td>483</td>\n",
       "      <td>university.degree</td>\n",
       "      <td>-1.8</td>\n",
       "      <td>...</td>\n",
       "      <td>admin.</td>\n",
       "      <td>no</td>\n",
       "      <td>married</td>\n",
       "      <td>apr</td>\n",
       "      <td>5099.1</td>\n",
       "      <td>0</td>\n",
       "      <td>success</td>\n",
       "      <td>1</td>\n",
       "      <td>train</td>\n",
       "      <td>1.0</td>\n",
       "    </tr>\n",
       "    <tr>\n",
       "      <th>827</th>\n",
       "      <td>30</td>\n",
       "      <td>1</td>\n",
       "      <td>-38.3</td>\n",
       "      <td>94.027</td>\n",
       "      <td>telephone</td>\n",
       "      <td>wed</td>\n",
       "      <td>no</td>\n",
       "      <td>5</td>\n",
       "      <td>professional.course</td>\n",
       "      <td>-1.7</td>\n",
       "      <td>...</td>\n",
       "      <td>technician</td>\n",
       "      <td>no</td>\n",
       "      <td>married</td>\n",
       "      <td>aug</td>\n",
       "      <td>4991.6</td>\n",
       "      <td>0</td>\n",
       "      <td>success</td>\n",
       "      <td>4</td>\n",
       "      <td>test</td>\n",
       "      <td>NaN</td>\n",
       "    </tr>\n",
       "    <tr>\n",
       "      <th>3276</th>\n",
       "      <td>30</td>\n",
       "      <td>1</td>\n",
       "      <td>-47.1</td>\n",
       "      <td>93.075</td>\n",
       "      <td>cellular</td>\n",
       "      <td>thu</td>\n",
       "      <td>no</td>\n",
       "      <td>502</td>\n",
       "      <td>university.degree</td>\n",
       "      <td>-1.8</td>\n",
       "      <td>...</td>\n",
       "      <td>admin.</td>\n",
       "      <td>no</td>\n",
       "      <td>single</td>\n",
       "      <td>apr</td>\n",
       "      <td>5099.1</td>\n",
       "      <td>0</td>\n",
       "      <td>success</td>\n",
       "      <td>1</td>\n",
       "      <td>test</td>\n",
       "      <td>NaN</td>\n",
       "    </tr>\n",
       "    <tr>\n",
       "      <th>6991</th>\n",
       "      <td>48</td>\n",
       "      <td>1</td>\n",
       "      <td>-38.3</td>\n",
       "      <td>94.027</td>\n",
       "      <td>cellular</td>\n",
       "      <td>wed</td>\n",
       "      <td>no</td>\n",
       "      <td>118</td>\n",
       "      <td>university.degree</td>\n",
       "      <td>-1.7</td>\n",
       "      <td>...</td>\n",
       "      <td>admin.</td>\n",
       "      <td>no</td>\n",
       "      <td>single</td>\n",
       "      <td>aug</td>\n",
       "      <td>4991.6</td>\n",
       "      <td>0</td>\n",
       "      <td>success</td>\n",
       "      <td>2</td>\n",
       "      <td>test</td>\n",
       "      <td>NaN</td>\n",
       "    </tr>\n",
       "    <tr>\n",
       "      <th>8710</th>\n",
       "      <td>35</td>\n",
       "      <td>1</td>\n",
       "      <td>-46.2</td>\n",
       "      <td>92.893</td>\n",
       "      <td>cellular</td>\n",
       "      <td>tue</td>\n",
       "      <td>unknown</td>\n",
       "      <td>214</td>\n",
       "      <td>basic.6y</td>\n",
       "      <td>-1.8</td>\n",
       "      <td>...</td>\n",
       "      <td>blue-collar</td>\n",
       "      <td>no</td>\n",
       "      <td>married</td>\n",
       "      <td>may</td>\n",
       "      <td>5099.1</td>\n",
       "      <td>0</td>\n",
       "      <td>success</td>\n",
       "      <td>1</td>\n",
       "      <td>test</td>\n",
       "      <td>NaN</td>\n",
       "    </tr>\n",
       "    <tr>\n",
       "      <th>9767</th>\n",
       "      <td>41</td>\n",
       "      <td>2</td>\n",
       "      <td>-38.3</td>\n",
       "      <td>94.027</td>\n",
       "      <td>cellular</td>\n",
       "      <td>thu</td>\n",
       "      <td>no</td>\n",
       "      <td>231</td>\n",
       "      <td>high.school</td>\n",
       "      <td>-1.7</td>\n",
       "      <td>...</td>\n",
       "      <td>admin.</td>\n",
       "      <td>yes</td>\n",
       "      <td>divorced</td>\n",
       "      <td>aug</td>\n",
       "      <td>4991.6</td>\n",
       "      <td>0</td>\n",
       "      <td>success</td>\n",
       "      <td>2</td>\n",
       "      <td>test</td>\n",
       "      <td>NaN</td>\n",
       "    </tr>\n",
       "    <tr>\n",
       "      <th>10288</th>\n",
       "      <td>31</td>\n",
       "      <td>1</td>\n",
       "      <td>-42.0</td>\n",
       "      <td>93.200</td>\n",
       "      <td>cellular</td>\n",
       "      <td>wed</td>\n",
       "      <td>no</td>\n",
       "      <td>192</td>\n",
       "      <td>professional.course</td>\n",
       "      <td>-0.1</td>\n",
       "      <td>...</td>\n",
       "      <td>unemployed</td>\n",
       "      <td>no</td>\n",
       "      <td>single</td>\n",
       "      <td>nov</td>\n",
       "      <td>5195.8</td>\n",
       "      <td>0</td>\n",
       "      <td>success</td>\n",
       "      <td>1</td>\n",
       "      <td>test</td>\n",
       "      <td>NaN</td>\n",
       "    </tr>\n",
       "    <tr>\n",
       "      <th>12981</th>\n",
       "      <td>30</td>\n",
       "      <td>1</td>\n",
       "      <td>-38.3</td>\n",
       "      <td>94.027</td>\n",
       "      <td>cellular</td>\n",
       "      <td>wed</td>\n",
       "      <td>no</td>\n",
       "      <td>191</td>\n",
       "      <td>university.degree</td>\n",
       "      <td>-1.7</td>\n",
       "      <td>...</td>\n",
       "      <td>admin.</td>\n",
       "      <td>no</td>\n",
       "      <td>single</td>\n",
       "      <td>aug</td>\n",
       "      <td>4991.6</td>\n",
       "      <td>0</td>\n",
       "      <td>success</td>\n",
       "      <td>2</td>\n",
       "      <td>test</td>\n",
       "      <td>NaN</td>\n",
       "    </tr>\n",
       "    <tr>\n",
       "      <th>14060</th>\n",
       "      <td>35</td>\n",
       "      <td>3</td>\n",
       "      <td>-42.0</td>\n",
       "      <td>93.200</td>\n",
       "      <td>telephone</td>\n",
       "      <td>wed</td>\n",
       "      <td>no</td>\n",
       "      <td>377</td>\n",
       "      <td>university.degree</td>\n",
       "      <td>-0.1</td>\n",
       "      <td>...</td>\n",
       "      <td>management</td>\n",
       "      <td>yes</td>\n",
       "      <td>married</td>\n",
       "      <td>nov</td>\n",
       "      <td>5195.8</td>\n",
       "      <td>0</td>\n",
       "      <td>success</td>\n",
       "      <td>2</td>\n",
       "      <td>test</td>\n",
       "      <td>NaN</td>\n",
       "    </tr>\n",
       "    <tr>\n",
       "      <th>16206</th>\n",
       "      <td>48</td>\n",
       "      <td>1</td>\n",
       "      <td>-38.3</td>\n",
       "      <td>94.027</td>\n",
       "      <td>cellular</td>\n",
       "      <td>wed</td>\n",
       "      <td>no</td>\n",
       "      <td>288</td>\n",
       "      <td>university.degree</td>\n",
       "      <td>-1.7</td>\n",
       "      <td>...</td>\n",
       "      <td>admin.</td>\n",
       "      <td>yes</td>\n",
       "      <td>married</td>\n",
       "      <td>aug</td>\n",
       "      <td>4991.6</td>\n",
       "      <td>0</td>\n",
       "      <td>success</td>\n",
       "      <td>3</td>\n",
       "      <td>test</td>\n",
       "      <td>NaN</td>\n",
       "    </tr>\n",
       "  </tbody>\n",
       "</table>\n",
       "<p>15 rows × 22 columns</p>\n",
       "</div>"
      ],
      "text/plain": [
       "       age  campaign  cons.conf.idx  cons.price.idx    contact day_of_week  \\\n",
       "3385    51         1          -47.1          93.075   cellular         thu   \n",
       "12672   28         1          -38.3          94.027   cellular         wed   \n",
       "15813   44         3          -38.3          94.027   cellular         wed   \n",
       "20812   27         1          -38.3          94.027   cellular         wed   \n",
       "21371   27         1          -38.3          94.027  telephone         wed   \n",
       "22258   36         1          -47.1          93.075   cellular         thu   \n",
       "827     30         1          -38.3          94.027  telephone         wed   \n",
       "3276    30         1          -47.1          93.075   cellular         thu   \n",
       "6991    48         1          -38.3          94.027   cellular         wed   \n",
       "8710    35         1          -46.2          92.893   cellular         tue   \n",
       "9767    41         2          -38.3          94.027   cellular         thu   \n",
       "10288   31         1          -42.0          93.200   cellular         wed   \n",
       "12981   30         1          -38.3          94.027   cellular         wed   \n",
       "14060   35         3          -42.0          93.200  telephone         wed   \n",
       "16206   48         1          -38.3          94.027   cellular         wed   \n",
       "\n",
       "       default  duration            education  emp.var.rate   ...    \\\n",
       "3385        no       687  professional.course          -1.8   ...     \n",
       "12672       no       178             basic.9y          -1.7   ...     \n",
       "15813       no       153             basic.6y          -1.7   ...     \n",
       "20812       no       651    university.degree          -1.7   ...     \n",
       "21371       no       153    university.degree          -1.7   ...     \n",
       "22258       no       483    university.degree          -1.8   ...     \n",
       "827         no         5  professional.course          -1.7   ...     \n",
       "3276        no       502    university.degree          -1.8   ...     \n",
       "6991        no       118    university.degree          -1.7   ...     \n",
       "8710   unknown       214             basic.6y          -1.8   ...     \n",
       "9767        no       231          high.school          -1.7   ...     \n",
       "10288       no       192  professional.course          -0.1   ...     \n",
       "12981       no       191    university.degree          -1.7   ...     \n",
       "14060       no       377    university.degree          -0.1   ...     \n",
       "16206       no       288    university.degree          -1.7   ...     \n",
       "\n",
       "               job loan   marital month nr.employed pdays  poutcome  previous  \\\n",
       "3385    technician   no   married   apr      5099.1     0   success         1   \n",
       "12672      student   no    single   aug      4991.6     0   success         1   \n",
       "15813     services   no  divorced   aug      4991.6     0   success         1   \n",
       "20812      student   no    single   aug      4991.6     0   success         3   \n",
       "21371      student   no    single   aug      4991.6     0   success         5   \n",
       "22258       admin.   no   married   apr      5099.1     0   success         1   \n",
       "827     technician   no   married   aug      4991.6     0   success         4   \n",
       "3276        admin.   no    single   apr      5099.1     0   success         1   \n",
       "6991        admin.   no    single   aug      4991.6     0   success         2   \n",
       "8710   blue-collar   no   married   may      5099.1     0   success         1   \n",
       "9767        admin.  yes  divorced   aug      4991.6     0   success         2   \n",
       "10288   unemployed   no    single   nov      5195.8     0   success         1   \n",
       "12981       admin.   no    single   aug      4991.6     0   success         2   \n",
       "14060   management  yes   married   nov      5195.8     0   success         2   \n",
       "16206       admin.  yes   married   aug      4991.6     0   success         3   \n",
       "\n",
       "      source  target  \n",
       "3385   train     1.0  \n",
       "12672  train     1.0  \n",
       "15813  train     1.0  \n",
       "20812  train     1.0  \n",
       "21371  train     0.0  \n",
       "22258  train     1.0  \n",
       "827     test     NaN  \n",
       "3276    test     NaN  \n",
       "6991    test     NaN  \n",
       "8710    test     NaN  \n",
       "9767    test     NaN  \n",
       "10288   test     NaN  \n",
       "12981   test     NaN  \n",
       "14060   test     NaN  \n",
       "16206   test     NaN  \n",
       "\n",
       "[15 rows x 22 columns]"
      ]
     },
     "execution_count": 9,
     "metadata": {},
     "output_type": "execute_result"
    }
   ],
   "source": [
    "df[df.pdays == 0].drop(['_id'], axis=1)"
   ]
  },
  {
   "cell_type": "markdown",
   "metadata": {},
   "source": [
    "выглядет странно, у 15 чел (в рамках общего датасета) был контакт в рамках марк-вой стр-гии, при этом с момента предидущего контакта прошло 0 дней. При этом были контакты в рамках преди-х марг-х стратегий (previos != 0), т.е. как таковые контакты были и клиент имел информацию о депозите"
   ]
  },
  {
   "cell_type": "code",
   "execution_count": 10,
   "metadata": {},
   "outputs": [
    {
     "data": {
      "text/plain": [
       "999    35563\n",
       "Name: pdays, dtype: int64"
      ]
     },
     "execution_count": 10,
     "metadata": {},
     "output_type": "execute_result"
    }
   ],
   "source": [
    "df[df.previous == 0].pdays.value_counts()"
   ]
  },
  {
   "cell_type": "markdown",
   "metadata": {},
   "source": [
    "а пользователей, у которых имеются контакты по предидущим марг-м стра-ями очень много. Ошибок нет, (pdays == 999 если previous == 0)\n"
   ]
  },
  {
   "cell_type": "markdown",
   "metadata": {},
   "source": [
    "### Анализ фич и генерация новых"
   ]
  },
  {
   "cell_type": "code",
   "execution_count": 12,
   "metadata": {},
   "outputs": [
    {
     "data": {
      "text/plain": [
       "['age',\n",
       " 'campaign',\n",
       " 'cons.conf.idx',\n",
       " 'cons.price.idx',\n",
       " 'duration',\n",
       " 'emp.var.rate',\n",
       " 'euribor3m',\n",
       " 'nr.employed',\n",
       " 'pdays',\n",
       " 'previous',\n",
       " 'target']"
      ]
     },
     "execution_count": 12,
     "metadata": {},
     "output_type": "execute_result"
    }
   ],
   "source": [
    "int_features = [_ for _ in df.columns if str(df[_].dtype) != 'object']\n",
    "int_features"
   ]
  },
  {
   "cell_type": "markdown",
   "metadata": {},
   "source": [
    "посмотрим на графики для фич с числовыми значениями"
   ]
  },
  {
   "cell_type": "code",
   "execution_count": 16,
   "metadata": {},
   "outputs": [
    {
     "data": {
      "text/plain": [
       "<matplotlib.axes._subplots.AxesSubplot at 0xb4f6208>"
      ]
     },
     "execution_count": 16,
     "metadata": {},
     "output_type": "execute_result"
    },
    {
     "data": {
      "image/png": "[encoded data removed]",
      "text/plain": [
       "<matplotlib.figure.Figure at 0xb51e8d0>"
      ]
     },
     "metadata": {},
     "output_type": "display_data"
    }
   ],
   "source": [
    "df['age'].hist(bins=40)"
   ]
  },
  {
   "cell_type": "markdown",
   "metadata": {},
   "source": [
    "с возрастра 60 лет кол-во клиентов резко падает, создадим новую фичу \"больше ли 60 лет\""
   ]
  },
  {
   "cell_type": "code",
   "execution_count": 17,
   "metadata": {
    "collapsed": true
   },
   "outputs": [],
   "source": [
    "df['is_age_more_60'] = df.age > 60\n",
    "df['is_age_more_60'] = df['is_age_more_60'].astype('int32')"
   ]
  },
  {
   "cell_type": "code",
   "execution_count": 18,
   "metadata": {},
   "outputs": [
    {
     "data": {
      "text/plain": [
       "2.567592502670681"
      ]
     },
     "execution_count": 18,
     "metadata": {},
     "output_type": "execute_result"
    },
    {
     "data": {
      "image/png": "[encoded data removed]",
      "text/plain": [
       "<matplotlib.figure.Figure at 0xb35d550>"
      ]
     },
     "metadata": {},
     "output_type": "display_data"
    }
   ],
   "source": [
    "df['campaign'].hist(bins=50)\n",
    "df['campaign'].mean()"
   ]
  },
  {
   "cell_type": "markdown",
   "metadata": {},
   "source": [
    "По аналогии с возрастом мы видим, что кол-во компаний резко падает с 2 шт. Создадим еще одну фичу:"
   ]
  },
  {
   "cell_type": "code",
   "execution_count": 20,
   "metadata": {
    "collapsed": true
   },
   "outputs": [],
   "source": [
    "df['is_campaign_more_2'] = df.campaign > 2\n",
    "df['is_campaign_more_2'] = df['is_campaign_more_2'].astype('int32')"
   ]
  },
  {
   "cell_type": "code",
   "execution_count": 21,
   "metadata": {},
   "outputs": [
    {
     "data": {
      "text/plain": [
       "999    39673\n",
       "3        439\n",
       "6        412\n",
       "4        118\n",
       "9         64\n",
       "2         61\n",
       "7         60\n",
       "12        58\n",
       "10        52\n",
       "5         46\n",
       "13        36\n",
       "11        28\n",
       "1         26\n",
       "15        24\n",
       "14        20\n",
       "8         18\n",
       "0         15\n",
       "16        11\n",
       "17         8\n",
       "18         7\n",
       "19         3\n",
       "22         3\n",
       "21         2\n",
       "26         1\n",
       "20         1\n",
       "25         1\n",
       "27         1\n",
       "Name: pdays, dtype: int64"
      ]
     },
     "execution_count": 21,
     "metadata": {},
     "output_type": "execute_result"
    }
   ],
   "source": [
    "df['pdays'].value_counts()"
   ]
  },
  {
   "cell_type": "markdown",
   "metadata": {},
   "source": [
    "больше всего клиентов, с которыми не контактировали (значение == 999). Снова добавим новую фичу"
   ]
  },
  {
   "cell_type": "code",
   "execution_count": 22,
   "metadata": {
    "collapsed": true
   },
   "outputs": [],
   "source": [
    "df['is_pdays_more_999'] = df.pdays == 999\n",
    "df['is_pdays_more_999'] = df['is_pdays_more_999'].astype('int32')"
   ]
  },
  {
   "cell_type": "markdown",
   "metadata": {},
   "source": [
    "Логично, что в зависимости от уровня образования и области работы люди по разному берут депозит. Если мы не знаем оба эти параметра? Для таких клиентов сложно спрогнозировать реакцию на target, поэтому их также выделим в отдельную категорию"
   ]
  },
  {
   "cell_type": "code",
   "execution_count": 23,
   "metadata": {
    "collapsed": true
   },
   "outputs": [],
   "source": [
    "df['no_info_edu_job'] = (df.education == 'unknown') & (df.job == 'unknown')\n",
    "df['no_info_edu_job'] = df['no_info_edu_job'].astype('int32')"
   ]
  },
  {
   "cell_type": "code",
   "execution_count": 24,
   "metadata": {},
   "outputs": [
    {
     "name": "stdout",
     "output_type": "stream",
     "text": [
      "<class 'pandas.core.frame.DataFrame'>\n",
      "Int64Index: 41188 entries, 0 to 16475\n",
      "Data columns (total 27 columns):\n",
      "_id                   41188 non-null object\n",
      "age                   41188 non-null int64\n",
      "campaign              41188 non-null int64\n",
      "cons.conf.idx         41188 non-null float64\n",
      "cons.price.idx        41188 non-null float64\n",
      "contact               41188 non-null object\n",
      "day_of_week           41188 non-null object\n",
      "default               41188 non-null object\n",
      "duration              41188 non-null int64\n",
      "education             41188 non-null object\n",
      "emp.var.rate          41188 non-null float64\n",
      "euribor3m             41188 non-null float64\n",
      "housing               41188 non-null object\n",
      "job                   41188 non-null object\n",
      "loan                  41188 non-null object\n",
      "marital               41188 non-null object\n",
      "month                 41188 non-null object\n",
      "nr.employed           41188 non-null float64\n",
      "pdays                 41188 non-null int64\n",
      "poutcome              41188 non-null object\n",
      "previous              41188 non-null int64\n",
      "source                41188 non-null object\n",
      "target                24712 non-null float64\n",
      "is_age_more_60        41188 non-null int32\n",
      "is_campaign_more_2    41188 non-null int32\n",
      "is_pdays_more_999     41188 non-null int32\n",
      "no_info_edu_job       41188 non-null int32\n",
      "dtypes: float64(6), int32(4), int64(5), object(12)\n",
      "memory usage: 8.2+ MB\n"
     ]
    }
   ],
   "source": [
    "df.info()"
   ]
  },
  {
   "cell_type": "markdown",
   "metadata": {},
   "source": [
    "Преобразуем категориальные данные"
   ]
  },
  {
   "cell_type": "code",
   "execution_count": 25,
   "metadata": {
    "collapsed": true
   },
   "outputs": [],
   "source": [
    "def data_preproc(df_input):\n",
    "    if '_id'in df_input.columns:\n",
    "        df_input.drop(['_id'], axis=1, inplace=True)\n",
    "    \n",
    "    cat_cols = [n for n in df_input.columns if df_input[n].dtype=='object']\n",
    "    \n",
    "    dummies = pd.get_dummies(df_input[cat_cols])\n",
    "    \n",
    "    df_input = pd.concat([df_input, dummies], axis=1)\n",
    "    df_input.drop(cat_cols, axis=1, inplace=True)\n",
    "    \n",
    "    return df_input"
   ]
  },
  {
   "cell_type": "markdown",
   "metadata": {},
   "source": [
    "### Выбор модели и прогноз"
   ]
  },
  {
   "cell_type": "code",
   "execution_count": 26,
   "metadata": {},
   "outputs": [
    {
     "name": "stdout",
     "output_type": "stream",
     "text": [
      "<class 'pandas.core.frame.DataFrame'>\n",
      "Int64Index: 24712 entries, 0 to 24711\n",
      "Data columns (total 68 columns):\n",
      "age                              24712 non-null int64\n",
      "campaign                         24712 non-null int64\n",
      "cons.conf.idx                    24712 non-null float64\n",
      "cons.price.idx                   24712 non-null float64\n",
      "duration                         24712 non-null int64\n",
      "emp.var.rate                     24712 non-null float64\n",
      "euribor3m                        24712 non-null float64\n",
      "nr.employed                      24712 non-null float64\n",
      "pdays                            24712 non-null int64\n",
      "previous                         24712 non-null int64\n",
      "target                           24712 non-null float64\n",
      "is_age_more_60                   24712 non-null int32\n",
      "is_campaign_more_2               24712 non-null int32\n",
      "is_pdays_more_999                24712 non-null int32\n",
      "no_info_edu_job                  24712 non-null int32\n",
      "contact_cellular                 24712 non-null uint8\n",
      "contact_telephone                24712 non-null uint8\n",
      "day_of_week_fri                  24712 non-null uint8\n",
      "day_of_week_mon                  24712 non-null uint8\n",
      "day_of_week_thu                  24712 non-null uint8\n",
      "day_of_week_tue                  24712 non-null uint8\n",
      "day_of_week_wed                  24712 non-null uint8\n",
      "default_no                       24712 non-null uint8\n",
      "default_unknown                  24712 non-null uint8\n",
      "default_yes                      24712 non-null uint8\n",
      "education_basic.4y               24712 non-null uint8\n",
      "education_basic.6y               24712 non-null uint8\n",
      "education_basic.9y               24712 non-null uint8\n",
      "education_high.school            24712 non-null uint8\n",
      "education_illiterate             24712 non-null uint8\n",
      "education_professional.course    24712 non-null uint8\n",
      "education_university.degree      24712 non-null uint8\n",
      "education_unknown                24712 non-null uint8\n",
      "housing_no                       24712 non-null uint8\n",
      "housing_unknown                  24712 non-null uint8\n",
      "housing_yes                      24712 non-null uint8\n",
      "job_admin.                       24712 non-null uint8\n",
      "job_blue-collar                  24712 non-null uint8\n",
      "job_entrepreneur                 24712 non-null uint8\n",
      "job_housemaid                    24712 non-null uint8\n",
      "job_management                   24712 non-null uint8\n",
      "job_retired                      24712 non-null uint8\n",
      "job_self-employed                24712 non-null uint8\n",
      "job_services                     24712 non-null uint8\n",
      "job_student                      24712 non-null uint8\n",
      "job_technician                   24712 non-null uint8\n",
      "job_unemployed                   24712 non-null uint8\n",
      "job_unknown                      24712 non-null uint8\n",
      "loan_no                          24712 non-null uint8\n",
      "loan_unknown                     24712 non-null uint8\n",
      "loan_yes                         24712 non-null uint8\n",
      "marital_divorced                 24712 non-null uint8\n",
      "marital_married                  24712 non-null uint8\n",
      "marital_single                   24712 non-null uint8\n",
      "marital_unknown                  24712 non-null uint8\n",
      "month_apr                        24712 non-null uint8\n",
      "month_aug                        24712 non-null uint8\n",
      "month_dec                        24712 non-null uint8\n",
      "month_jul                        24712 non-null uint8\n",
      "month_jun                        24712 non-null uint8\n",
      "month_mar                        24712 non-null uint8\n",
      "month_may                        24712 non-null uint8\n",
      "month_nov                        24712 non-null uint8\n",
      "month_oct                        24712 non-null uint8\n",
      "month_sep                        24712 non-null uint8\n",
      "poutcome_failure                 24712 non-null uint8\n",
      "poutcome_nonexistent             24712 non-null uint8\n",
      "poutcome_success                 24712 non-null uint8\n",
      "dtypes: float64(6), int32(4), int64(5), uint8(53)\n",
      "memory usage: 3.9 MB\n"
     ]
    },
    {
     "name": "stderr",
     "output_type": "stream",
     "text": [
      "C:\\Users\\1\\Anaconda3\\lib\\site-packages\\ipykernel_launcher.py:2: SettingWithCopyWarning: \n",
      "A value is trying to be set on a copy of a slice from a DataFrame\n",
      "\n",
      "See the caveats in the documentation: http://pandas.pydata.org/pandas-docs/stable/indexing.html#indexing-view-versus-copy\n",
      "  \n",
      "C:\\Users\\1\\Anaconda3\\lib\\site-packages\\ipykernel_launcher.py:3: SettingWithCopyWarning: \n",
      "A value is trying to be set on a copy of a slice from a DataFrame\n",
      "\n",
      "See the caveats in the documentation: http://pandas.pydata.org/pandas-docs/stable/indexing.html#indexing-view-versus-copy\n",
      "  This is separate from the ipykernel package so we can avoid doing imports until\n"
     ]
    }
   ],
   "source": [
    "df_train_resample = df[df.source == 'train']\n",
    "df_train_resample.drop('source', axis=1, inplace=True)\n",
    "df_train_resample = data_preproc(df_train_resample)\n",
    "df_train_resample.info()"
   ]
  },
  {
   "cell_type": "code",
   "execution_count": 29,
   "metadata": {
    "collapsed": true
   },
   "outputs": [],
   "source": [
    "from sklearn.model_selection import train_test_split, cross_val_score, KFold\n",
    "from sklearn.metrics import roc_auc_score, f1_score, precision_recall_curve\n",
    "\n",
    "from sklearn.neighbors import KNeighborsClassifier\n",
    "from sklearn.ensemble import RandomForestClassifier\n",
    "from sklearn.linear_model import LinearRegression\n",
    "\n",
    "\n",
    "def calculate(model, X, y):\n",
    "    kfold = KFold(n_splits=12, shuffle=True, random_state=0)\n",
    "    roc_auc_mean = cross_val_score(model, X, y, scoring='roc_auc', cv=kfold)\n",
    "\n",
    "    return roc_auc_mean.mean()\n",
    "\n",
    "X = df_train_resample.drop('target', axis=1)\n",
    "y = df_train_resample.target"
   ]
  },
  {
   "cell_type": "code",
   "execution_count": 34,
   "metadata": {},
   "outputs": [
    {
     "name": "stdout",
     "output_type": "stream",
     "text": [
      "knn roc_auc_score:\t0.9286357339469841\n",
      "RF roc_auc_score:\t0.938149608246566\n",
      "LR roc_auc_score:\t0.9323220852041576\n"
     ]
    }
   ],
   "source": [
    "knn = KNeighborsClassifier(n_neighbors=60)\n",
    "knn_roc_auc = calculate(knn, X, y)\n",
    "\n",
    "RF = RandomForestClassifier(n_estimators=60, random_state=1)\n",
    "RF_roc_auc = calculate(RF, X, y)\n",
    "\n",
    "LR = LinearRegression()\n",
    "LR_roc_auc = calculate(LR, X, y)\n",
    "\n",
    "print('knn roc_auc_score:\\t{}'.format(knn_roc_auc))\n",
    "print('RF roc_auc_score:\\t{}'.format(RF_roc_auc))\n",
    "print('LR roc_auc_score:\\t{}'.format(LR_roc_auc))"
   ]
  },
  {
   "cell_type": "markdown",
   "metadata": {},
   "source": [
    "По критерию roc_auc лучше всего себя показал случайный лес. Предскажем значения для тестовой выборки"
   ]
  },
  {
   "cell_type": "markdown",
   "metadata": {},
   "source": [
    "т.к. у нас разное кол-во 1 и 0 в target нам нужно вычислить оптимальный threshold "
   ]
  },
  {
   "cell_type": "code",
   "execution_count": 40,
   "metadata": {},
   "outputs": [
    {
     "data": {
      "text/html": [
       "<div>\n",
       "<style>\n",
       "    .dataframe thead tr:only-child th {\n",
       "        text-align: right;\n",
       "    }\n",
       "\n",
       "    .dataframe thead th {\n",
       "        text-align: left;\n",
       "    }\n",
       "\n",
       "    .dataframe tbody tr th {\n",
       "        vertical-align: top;\n",
       "    }\n",
       "</style>\n",
       "<table border=\"1\" class=\"dataframe\">\n",
       "  <thead>\n",
       "    <tr style=\"text-align: right;\">\n",
       "      <th></th>\n",
       "      <th>f1</th>\n",
       "      <th>t</th>\n",
       "    </tr>\n",
       "  </thead>\n",
       "  <tbody>\n",
       "    <tr>\n",
       "      <th>182</th>\n",
       "      <td>0.633126</td>\n",
       "      <td>0.364</td>\n",
       "    </tr>\n",
       "    <tr>\n",
       "      <th>250</th>\n",
       "      <td>0.551020</td>\n",
       "      <td>0.500</td>\n",
       "    </tr>\n",
       "  </tbody>\n",
       "</table>\n",
       "</div>"
      ],
      "text/plain": [
       "           f1      t\n",
       "182  0.633126  0.364\n",
       "250  0.551020  0.500"
      ]
     },
     "execution_count": 40,
     "metadata": {},
     "output_type": "execute_result"
    }
   ],
   "source": [
    "X = df_train_resample.drop('target', axis=1)\n",
    "y = df_train_resample.target\n",
    "\n",
    "X_train, X_test, y_train, y_test = train_test_split(X, y, test_size=.3, random_state=1)\n",
    "\n",
    "RF = RandomForestClassifier(n_estimators=500, random_state=1) # возьмем большее кол-во деревьев для более точного threshold\n",
    "RF.fit(X_train, y_train)\n",
    "\n",
    "predict = RF.predict(X_test)\n",
    "predict_proba = RF.predict_proba(X_test)\n",
    "\n",
    "p, r, t = precision_recall_curve(y_test, predict_proba[:,1])\n",
    "\n",
    "F1 = 2 * (p * r) / (p + r)\n",
    "thresholds_table = pd.DataFrame([x for x in zip(F1, t)], columns=['f1', 't']).sort_values(by='f1', ascending=False)\n",
    "con = ((thresholds_table.f1) == thresholds_table.f1.max()) | (thresholds_table.t == .5)\n",
    "thresholds_table[con]"
   ]
  },
  {
   "cell_type": "markdown",
   "metadata": {},
   "source": [
    "Для стандартного threshold в 0.5 f1 мера составляет 0,55. Нам же нужно максимальная f1 мера, поэтому возьмем threshold ==  \t0,364. Далее делаем предсказание для тестовой выборки"
   ]
  },
  {
   "cell_type": "code",
   "execution_count": 46,
   "metadata": {
    "scrolled": true
   },
   "outputs": [
    {
     "name": "stderr",
     "output_type": "stream",
     "text": [
      "C:\\Users\\1\\Anaconda3\\lib\\site-packages\\ipykernel_launcher.py:2: SettingWithCopyWarning: \n",
      "A value is trying to be set on a copy of a slice from a DataFrame\n",
      "\n",
      "See the caveats in the documentation: http://pandas.pydata.org/pandas-docs/stable/indexing.html#indexing-view-versus-copy\n",
      "  \n",
      "C:\\Users\\1\\Anaconda3\\lib\\site-packages\\ipykernel_launcher.py:3: SettingWithCopyWarning: \n",
      "A value is trying to be set on a copy of a slice from a DataFrame\n",
      "\n",
      "See the caveats in the documentation: http://pandas.pydata.org/pandas-docs/stable/indexing.html#indexing-view-versus-copy\n",
      "  This is separate from the ipykernel package so we can avoid doing imports until\n"
     ]
    }
   ],
   "source": [
    "df_test_resample = df[df.source=='test']\n",
    "df_test_resample.drop(['source', 'target'], axis=1, inplace=True)\n",
    "df_test_resample = data_preproc(df_test_resample)\n",
    "\n",
    "predict_proba_test = RF.predict_proba(df_test_resample)[:, 1] > 0.364\n",
    "df_test['target'] = predict_proba_test\n",
    "df_test['target'] = df_test['target'].astype('int32')"
   ]
  },
  {
   "cell_type": "markdown",
   "metadata": {},
   "source": [
    "Подготовим данные для kaggle"
   ]
  },
  {
   "cell_type": "code",
   "execution_count": 53,
   "metadata": {},
   "outputs": [
    {
     "name": "stderr",
     "output_type": "stream",
     "text": [
      "C:\\Users\\1\\Anaconda3\\lib\\site-packages\\ipykernel_launcher.py:3: SettingWithCopyWarning: \n",
      "A value is trying to be set on a copy of a slice from a DataFrame\n",
      "\n",
      "See the caveats in the documentation: http://pandas.pydata.org/pandas-docs/stable/indexing.html#indexing-view-versus-copy\n",
      "  This is separate from the ipykernel package so we can avoid doing imports until\n"
     ]
    }
   ],
   "source": [
    "df_test_kaggle = df_test[['_id', 'target']]\n",
    "df_test_kaggle.index = df_test_kaggle['_id']\n",
    "df_test_kaggle.drop('_id', axis=1, inplace=True)\n",
    "df_test_kaggle.to_csv('data/sample_submission.csv', sep=',')"
   ]
  },
  {
   "cell_type": "code",
   "execution_count": null,
   "metadata": {
    "collapsed": true
   },
   "outputs": [],
   "source": []
  },
  {
   "cell_type": "code",
   "execution_count": null,
   "metadata": {
    "collapsed": true
   },
   "outputs": [],
   "source": []
  },
  {
   "cell_type": "code",
   "execution_count": null,
   "metadata": {
    "collapsed": true
   },
   "outputs": [],
   "source": []
  },
  {
   "cell_type": "code",
   "execution_count": null,
   "metadata": {
    "collapsed": true
   },
   "outputs": [],
   "source": []
  },
  {
   "cell_type": "code",
   "execution_count": null,
   "metadata": {
    "collapsed": true
   },
   "outputs": [],
   "source": []
  },
  {
   "cell_type": "code",
   "execution_count": null,
   "metadata": {
    "collapsed": true
   },
   "outputs": [],
   "source": []
  },
  {
   "cell_type": "code",
   "execution_count": null,
   "metadata": {
    "collapsed": true
   },
   "outputs": [],
   "source": []
  }
 ],
 "metadata": {
  "kernelspec": {
   "display_name": "Python 3",
   "language": "python",
   "name": "python3"
  },
  "language_info": {
   "codemirror_mode": {
    "name": "ipython",
    "version": 3
   },
   "file_extension": ".py",
   "mimetype": "text/x-python",
   "name": "python",
   "nbconvert_exporter": "python",
   "pygments_lexer": "ipython3",
   "version": "3.6.1"
  }
 },
 "nbformat": 4,
 "nbformat_minor": 2
}
